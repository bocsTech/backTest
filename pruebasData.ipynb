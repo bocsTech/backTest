{
 "cells": [
  {
   "cell_type": "code",
   "execution_count": 1,
   "metadata": {},
   "outputs": [],
   "source": [
    "import pymongo\n",
    "\n",
    "client = pymongo.MongoClient(\"mongodb://localhost:27017/\")\n",
    "\n",
    "mydb = client[\"mydatabase\"]\n",
    "\n",
    "locales = mydb[\"locales\"]"
   ]
  },
  {
   "cell_type": "code",
   "execution_count": 48,
   "metadata": {},
   "outputs": [
    {
     "ename": "TypeError",
     "evalue": "datetime.time() takes no arguments (1 given)",
     "output_type": "error",
     "traceback": [
      "\u001b[1;31m---------------------------------------------------------------------------\u001b[0m",
      "\u001b[1;31mTypeError\u001b[0m                                 Traceback (most recent call last)",
      "\u001b[1;32mc:\\Users\\camil\\OneDrive\\Desktop\\BOCS\\Back\\pruebasData.ipynb Cell 2'\u001b[0m in \u001b[0;36m<cell line: 1>\u001b[1;34m()\u001b[0m\n\u001b[1;32m----> <a href='vscode-notebook-cell:/c%3A/Users/camil/OneDrive/Desktop/BOCS/Back/pruebasData.ipynb#ch0000009?line=0'>1</a>\u001b[0m datetime\u001b[39m.\u001b[39;49mnow()\u001b[39m.\u001b[39;49mtime(\u001b[39m\"\u001b[39;49m\u001b[39m%\u001b[39;49m\u001b[39mY-\u001b[39;49m\u001b[39m%\u001b[39;49m\u001b[39mm-\u001b[39;49m\u001b[39m%d\u001b[39;49;00m\u001b[39m \u001b[39;49m\u001b[39m%\u001b[39;49m\u001b[39mH:\u001b[39;49m\u001b[39m%\u001b[39;49m\u001b[39mM:\u001b[39;49m\u001b[39m%\u001b[39;49m\u001b[39mS\u001b[39;49m\u001b[39m\"\u001b[39;49m)\n",
      "\u001b[1;31mTypeError\u001b[0m: datetime.time() takes no arguments (1 given)"
     ]
    }
   ],
   "source": []
  },
  {
   "cell_type": "code",
   "execution_count": 52,
   "metadata": {},
   "outputs": [
    {
     "data": {
      "text/plain": [
       "<pymongo.results.InsertManyResult at 0x1c08b8a29b0>"
      ]
     },
     "execution_count": 52,
     "metadata": {},
     "output_type": "execute_result"
    }
   ],
   "source": [
    "from datetime import datetime\n",
    "pruebas = client[\"pruebas\"]\n",
    "\n",
    "pUpdate = pruebas[\"pruebaUpdate\"]\n",
    "\n",
    "data = [{\n",
    "    \"nombre\" : \"El Corral\",\n",
    "    \"promociones\" : [{\"Nombre\" : \"Promo 1\",\"Descripcion\" : \"Descripcion de la promo 1\",\"Fecha_Inicio\" : datetime.strptime(\"2020-01-01\", \"%Y-%m-%d\"),\"Fecha_Fin\" : None}],\n",
    "    \"promociones_activa\" : [{\"Nombre\" : \"Promo 1\",\"Descripcion\" : \"Descripcion de la promo 1\",\"Fecha_Inicio\" : datetime.strptime(\"2020-01-01\", \"%Y-%m-%d\"),\"Fecha_Fin\" : None},\n",
    "    {\"Nombre\" : \"Promo 2\",\"Descripcion\" : \"Descripcion de la promo 1\",\"Fecha_Inicio\" : datetime.strptime(\"2020-01-01\", \"%Y-%m-%d\"),\"Fecha_Fin\" : None}]\n",
    "},\n",
    "{\n",
    "    \"nombre\" : \"McDonalds\",\n",
    "    \"promociones\" : [{\"Nombre\" : \"Promo 1\",\"Descripcion\" : \"Descripcion de la promo 1\",\"Fecha_Inicio\" : datetime.strptime(\"2020-01-01\", \"%Y-%m-%d\"),\"Fecha_Fin\" : None}],\n",
    "    \"promociones_activa\" : [{\"Nombre\" : \"Promo 1\",\"Descripcion\" : \"Descripcion de la promo 1\",\"Fecha_Inicio\" : datetime.strptime(\"2020-01-01\", \"%Y-%m-%d\"),\"Fecha_Fin\" : None}]\n",
    "}\n",
    "]\n",
    "\n",
    "pUpdate.insert_many(data)"
   ]
  },
  {
   "cell_type": "code",
   "execution_count": 56,
   "metadata": {},
   "outputs": [
    {
     "data": {
      "text/plain": [
       "<pymongo.results.UpdateResult at 0x1c08b982e30>"
      ]
     },
     "execution_count": 56,
     "metadata": {},
     "output_type": "execute_result"
    }
   ],
   "source": [
    "pUpdate.update_one({\"nombre\" : \"El Corral\", \"promociones_activa.Nombre\" : \"Promo 1\"},\n",
    "{\"$set\": {\"promociones.$.Fecha_Fin\": datetime.now()}})\n",
    "\n",
    "pUpdate.update_one({\"nombre\":\"El Corral\"},{\n",
    "    \"$pull\": { \"promociones_activa\": {\"Nombre\": \"Promo 1\"} }\n",
    "})"
   ]
  },
  {
   "cell_type": "code",
   "execution_count": 60,
   "metadata": {},
   "outputs": [],
   "source": [
    "pUpdate.find_one({\"nombre\":\"El Corral\", \"promociones_activa.Nombre\" : \"Promo 1\"})"
   ]
  },
  {
   "cell_type": "code",
   "execution_count": 21,
   "metadata": {},
   "outputs": [
    {
     "data": {
      "text/plain": [
       "'{\"date\":{\"0\":1641843673000,\"1\":1642203742000,\"2\":1642650293000,\"3\":1643332260000,\"4\":1643506105000,\"5\":1643949490000,\"6\":1644758312000,\"7\":1645784855000,\"8\":1645849038000,\"9\":1646171036000,\"10\":1646269349000,\"11\":1646415278000,\"12\":1646559484000,\"13\":1646845098000,\"14\":1646865022000,\"15\":1647548161000,\"16\":1648106695000,\"17\":1648683291000,\"18\":1649091792000,\"19\":1650076581000,\"20\":1650315276000,\"21\":1650647445000,\"22\":1651350983000},\"client\":{\"0\":\"Luis Luis C\\\\u00e1rdenas\",\"1\":\"Ana Amparo Arias\",\"2\":\"N\\\\u00e9stor Boh\\\\u00f3rquez Mendoza\",\"3\":\"Jhonatan Sergio Caballero Herrera\",\"4\":\"Sindy Ximena Mar\\\\u00edn\",\"5\":\"Sergio Enrique Torres V\\\\u00e1squez\",\"6\":\"David G\\\\u00f3mez Su\\\\u00e1rez\",\"7\":\"Mary Hern\\\\u00e1ndez Hurtado\",\"8\":\"Mar\\\\u00eda Tania Casta\\\\u00f1eda\",\"9\":\"Jhonatan Germ\\\\u00e1n Ni\\\\u00f1o Camargo\",\"10\":\"\\\\u00d3scar Andr\\\\u00e9s Orozco Meza\",\"11\":\"Nubia Franco\",\"12\":\"Antonio Fernando Parra\",\"13\":\"Norberto Mar\\\\u00edn Duarte\",\"14\":\"Mar\\\\u00eda Ram\\\\u00edrez Rojas\",\"15\":\"Fredy Antonio Silva Vallejo\",\"16\":\"Ram\\\\u00f3n Boh\\\\u00f3rquez Arango\",\"17\":\"Enrique Delgado Guzm\\\\u00e1n\",\"18\":\"Andr\\\\u00e9s Mauricio Restrepo Castillo\",\"19\":\"\\\\u00c1ngel Mauricio P\\\\u00e9rez\",\"20\":\"Marcela Rosa Pineda Pineda\",\"21\":\"Jos\\\\u00e9 Luis Jim\\\\u00e9nez Melo\",\"22\":\"Yohana Ortiz Su\\\\u00e1rez\"},\"food\":{\"0\":[\"Agua\",\"Cerveza\",\"Pasta\",\"Cafe\"],\"1\":[\"Pizza\",\"Refresco\",\"Pasta\",\"Pasta\",\"Hamburguesa\"],\"2\":[\"Pizza\"],\"3\":[\"Hamburguesa\",\"Cerveza\",\"Tacos\"],\"4\":[\"Sushi\",\"Agua\"],\"5\":[\"Pizza\"],\"6\":[\"Refresco\",\"Cerveza\",\"Refresco\",\"Cafe\",\"Tacos\"],\"7\":[\"Jugo\",\"Jugo\"],\"8\":[\"Agua\"],\"9\":[\"Cerveza\",\"Pasta\",\"Cafe\",\"Pizza\"],\"10\":[\"Cerveza\",\"Hamburguesa\"],\"11\":[\"Pasta\",\"Pasta\",\"Tacos\",\"Cerveza\",\"Refresco\"],\"12\":[\"Jugo\",\"Ensalada\"],\"13\":[\"Sushi\",\"Ensalada\"],\"14\":[\"Hamburguesa\"],\"15\":[\"Agua\",\"Pasta\",\"Refresco\",\"Cafe\",\"Burrito\"],\"16\":[\"Refresco\"],\"17\":[\"Cafe\",\"Agua\"],\"18\":[\"Jugo\",\"Agua\",\"Tacos\",\"Pasta\"],\"19\":[\"Jugo\",\"Sushi\",\"Tacos\",\"Agua\"],\"20\":[\"Agua\",\"Pizza\"],\"21\":[\"Tacos\",\"Pizza\"],\"22\":[\"Hamburguesa\",\"Cafe\"]},\"amount\":{\"0\":35000,\"1\":105000,\"2\":30000,\"3\":62000,\"4\":35000,\"5\":30000,\"6\":45000,\"7\":12000,\"8\":5000,\"9\":60000,\"10\":37000,\"11\":77000,\"12\":26000,\"13\":50000,\"14\":30000,\"15\":55000,\"16\":5000,\"17\":8000,\"18\":56000,\"19\":66000,\"20\":35000,\"21\":55000,\"22\":33000}}'"
      ]
     },
     "execution_count": 21,
     "metadata": {},
     "output_type": "execute_result"
    }
   ],
   "source": [
    "import pandas as pd\n",
    "columns = [\"date\", \"client\", \"food\", \"amount\"]\n",
    "df = pd.DataFrame(user[\"purchases\"], columns=columns)\n",
    "df.to_json()"
   ]
  },
  {
   "cell_type": "code",
   "execution_count": 18,
   "metadata": {},
   "outputs": [
    {
     "data": {
      "text/plain": [
       "{'2022-01': 267000, '2022-02': 92000, '2022-03': 348000, '2022-04': 245000}"
      ]
     },
     "execution_count": 18,
     "metadata": {},
     "output_type": "execute_result"
    }
   ],
   "source": [
    "# from datetime import datetime\n",
    "# compras = user[\"purchases\"]\n",
    "# ventasMes = 0\n",
    "# ventasxMes = {}\n",
    "# compras.sort(key=lambda x: x[\"date\"])\n",
    "# for cliente in compras:\n",
    "    \n",
    "#     if cliente[\"date\"].strftime(\"%Y-%m\") == datetime.now().strftime(\"%Y-%m\"):\n",
    "#         ventasMes += cliente[\"amount\"]\n",
    "#     mes = cliente[\"date\"].strftime(\"%Y-%m\")\n",
    "    \n",
    "#     if mes in ventasxMes:\n",
    "#         ventasxMes[mes] += cliente[\"amount\"]\n",
    "#     else:\n",
    "#         ventasxMes[mes] = cliente[\"amount\"]\n",
    "\n",
    "    \n",
    "\n",
    "\n",
    "\n"
   ]
  },
  {
   "cell_type": "code",
   "execution_count": 23,
   "metadata": {},
   "outputs": [
    {
     "ename": "AttributeError",
     "evalue": "'dict' object has no attribute 'update_one'",
     "output_type": "error",
     "traceback": [
      "\u001b[1;31m---------------------------------------------------------------------------\u001b[0m",
      "\u001b[1;31mAttributeError\u001b[0m                            Traceback (most recent call last)",
      "\u001b[1;32mc:\\Users\\camil\\OneDrive\\Desktop\\BOCS\\Back\\pruebasData.ipynb Cell 5'\u001b[0m in \u001b[0;36m<cell line: 1>\u001b[1;34m()\u001b[0m\n\u001b[1;32m----> <a href='vscode-notebook-cell:/c%3A/Users/camil/OneDrive/Desktop/BOCS/Back/pruebasData.ipynb#ch0000007?line=0'>1</a>\u001b[0m user\u001b[39m.\u001b[39;49mupdate_one({\u001b[39m\"\u001b[39m\u001b[39memail\u001b[39m\u001b[39m\"\u001b[39m:\u001b[39m\"\u001b[39m\u001b[39mGomezRamosRodriguez@gmail.com\u001b[39m\u001b[39m\"\u001b[39m})\n",
      "\u001b[1;31mAttributeError\u001b[0m: 'dict' object has no attribute 'update_one'"
     ]
    }
   ],
   "source": [
    "locales.find"
   ]
  }
 ],
 "metadata": {
  "interpreter": {
   "hash": "857fc70f30c4ef8601cabc8da4911577e8506cfc68321670b2a061c34279f2d1"
  },
  "kernelspec": {
   "display_name": "Python 3.10.2 ('back': venv)",
   "language": "python",
   "name": "python3"
  },
  "language_info": {
   "codemirror_mode": {
    "name": "ipython",
    "version": 3
   },
   "file_extension": ".py",
   "mimetype": "text/x-python",
   "name": "python",
   "nbconvert_exporter": "python",
   "pygments_lexer": "ipython3",
   "version": "3.10.2"
  },
  "orig_nbformat": 4
 },
 "nbformat": 4,
 "nbformat_minor": 2
}
